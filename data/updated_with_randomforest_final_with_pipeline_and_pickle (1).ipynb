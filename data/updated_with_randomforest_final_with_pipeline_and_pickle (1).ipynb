{
 "cells": [
  {
   "cell_type": "code",
   "execution_count": 1,
   "id": "0fbacd36-b2e9-4bc1-98ff-bc66fcb14bf1",
   "metadata": {},
   "outputs": [
    {
     "name": "stdout",
     "output_type": "stream",
     "text": [
      "Requirement already satisfied: lightgbm in d:\\shit\\anaconda\\lib\\site-packages (4.5.0)\n",
      "Requirement already satisfied: numpy>=1.17.0 in d:\\shit\\anaconda\\lib\\site-packages (from lightgbm) (1.26.4)\n",
      "Requirement already satisfied: scipy in d:\\shit\\anaconda\\lib\\site-packages (from lightgbm) (1.13.1)\n",
      "Requirement already satisfied: xgboost in d:\\shit\\anaconda\\lib\\site-packages (2.1.2)\n",
      "Requirement already satisfied: numpy in d:\\shit\\anaconda\\lib\\site-packages (from xgboost) (1.26.4)\n",
      "Requirement already satisfied: scipy in d:\\shit\\anaconda\\lib\\site-packages (from xgboost) (1.13.1)\n"
     ]
    }
   ],
   "source": [
    "!pip install lightgbm\n",
    "!pip install xgboost\n"
   ]
  },
  {
   "cell_type": "code",
   "execution_count": 2,
   "id": "8f6b86f1-9d6d-4815-963f-840cad1fb0ee",
   "metadata": {},
   "outputs": [],
   "source": [
    "# Import dependencies\n",
    "import pandas as pd\n",
    "import numpy as np\n",
    "import matplotlib.pyplot as plt\n",
    "import seaborn as sns\n",
    "import sklearn as sk\n",
    "from sklearn.preprocessing import MinMaxScaler\n",
    "from sklearn.model_selection import train_test_split, GridSearchCV\n",
    "from sklearn.metrics import mean_squared_error\n",
    "from sklearn.linear_model import LinearRegression, Ridge, Lasso, BayesianRidge\n",
    "from sklearn.ensemble import RandomForestRegressor\n",
    "from xgboost import XGBRegressor\n",
    "from sklearn.svm import SVR\n",
    "from lightgbm import LGBMRegressor\n",
    "import joblib\n",
    "import os\n",
    "import warnings\n",
    "warnings.filterwarnings('ignore')"
   ]
  },
  {
   "cell_type": "code",
   "execution_count": 3,
   "id": "5b1fa2ab-57a4-4127-b7f7-38182dee84bd",
   "metadata": {},
   "outputs": [],
   "source": [
    "df = pd.read_csv('houserentdhaka.csv')"
   ]
  },
  {
   "cell_type": "code",
   "execution_count": 4,
   "id": "5110e3e3-7fa0-468f-b408-ca8663634ec2",
   "metadata": {},
   "outputs": [
    {
     "data": {
      "text/html": [
       "<div>\n",
       "<style scoped>\n",
       "    .dataframe tbody tr th:only-of-type {\n",
       "        vertical-align: middle;\n",
       "    }\n",
       "\n",
       "    .dataframe tbody tr th {\n",
       "        vertical-align: top;\n",
       "    }\n",
       "\n",
       "    .dataframe thead th {\n",
       "        text-align: right;\n",
       "    }\n",
       "</style>\n",
       "<table border=\"1\" class=\"dataframe\">\n",
       "  <thead>\n",
       "    <tr style=\"text-align: right;\">\n",
       "      <th></th>\n",
       "      <th>Unnamed: 0</th>\n",
       "      <th>Location</th>\n",
       "      <th>Area</th>\n",
       "      <th>Bed</th>\n",
       "      <th>Bath</th>\n",
       "      <th>Price</th>\n",
       "    </tr>\n",
       "  </thead>\n",
       "  <tbody>\n",
       "    <tr>\n",
       "      <th>0</th>\n",
       "      <td>0</td>\n",
       "      <td>Block H, Bashundhara R-A, Dhaka</td>\n",
       "      <td>1,600 sqft</td>\n",
       "      <td>3</td>\n",
       "      <td>3</td>\n",
       "      <td>20 Thousand</td>\n",
       "    </tr>\n",
       "    <tr>\n",
       "      <th>1</th>\n",
       "      <td>1</td>\n",
       "      <td>Farmgate, Tejgaon, Dhaka</td>\n",
       "      <td>900 sqft</td>\n",
       "      <td>2</td>\n",
       "      <td>2</td>\n",
       "      <td>20 Thousand</td>\n",
       "    </tr>\n",
       "    <tr>\n",
       "      <th>2</th>\n",
       "      <td>2</td>\n",
       "      <td>Block B, Nobodoy Housing Society, Mohammadpur,...</td>\n",
       "      <td>1,250 sqft</td>\n",
       "      <td>3</td>\n",
       "      <td>3</td>\n",
       "      <td>18 Thousand</td>\n",
       "    </tr>\n",
       "    <tr>\n",
       "      <th>3</th>\n",
       "      <td>3</td>\n",
       "      <td>Gulshan 1, Gulshan, Dhaka</td>\n",
       "      <td>2,200 sqft</td>\n",
       "      <td>3</td>\n",
       "      <td>4</td>\n",
       "      <td>75 Thousand</td>\n",
       "    </tr>\n",
       "    <tr>\n",
       "      <th>4</th>\n",
       "      <td>4</td>\n",
       "      <td>Baridhara, Dhaka</td>\n",
       "      <td>2,200 sqft</td>\n",
       "      <td>3</td>\n",
       "      <td>3</td>\n",
       "      <td>75 Thousand</td>\n",
       "    </tr>\n",
       "  </tbody>\n",
       "</table>\n",
       "</div>"
      ],
      "text/plain": [
       "   Unnamed: 0                                           Location        Area  \\\n",
       "0           0                    Block H, Bashundhara R-A, Dhaka  1,600 sqft   \n",
       "1           1                           Farmgate, Tejgaon, Dhaka    900 sqft   \n",
       "2           2  Block B, Nobodoy Housing Society, Mohammadpur,...  1,250 sqft   \n",
       "3           3                          Gulshan 1, Gulshan, Dhaka  2,200 sqft   \n",
       "4           4                                   Baridhara, Dhaka  2,200 sqft   \n",
       "\n",
       "   Bed  Bath        Price  \n",
       "0    3     3  20 Thousand  \n",
       "1    2     2  20 Thousand  \n",
       "2    3     3  18 Thousand  \n",
       "3    3     4  75 Thousand  \n",
       "4    3     3  75 Thousand  "
      ]
     },
     "execution_count": 4,
     "metadata": {},
     "output_type": "execute_result"
    }
   ],
   "source": [
    "df.head()"
   ]
  },
  {
   "cell_type": "code",
   "execution_count": 5,
   "id": "40344d67-58d2-4c1f-953f-3b8167da6dcf",
   "metadata": {},
   "outputs": [
    {
     "data": {
      "text/plain": [
       "(28800, 6)"
      ]
     },
     "execution_count": 5,
     "metadata": {},
     "output_type": "execute_result"
    }
   ],
   "source": [
    "df.shape"
   ]
  },
  {
   "cell_type": "code",
   "execution_count": 6,
   "id": "f69aa9dc-d63a-47e5-96c0-4a9354ad30c8",
   "metadata": {},
   "outputs": [
    {
     "name": "stdout",
     "output_type": "stream",
     "text": [
      "<class 'pandas.core.frame.DataFrame'>\n",
      "RangeIndex: 28800 entries, 0 to 28799\n",
      "Data columns (total 6 columns):\n",
      " #   Column      Non-Null Count  Dtype \n",
      "---  ------      --------------  ----- \n",
      " 0   Unnamed: 0  28800 non-null  int64 \n",
      " 1   Location    28800 non-null  object\n",
      " 2   Area        28800 non-null  object\n",
      " 3   Bed         28800 non-null  int64 \n",
      " 4   Bath        28800 non-null  int64 \n",
      " 5   Price       28800 non-null  object\n",
      "dtypes: int64(3), object(3)\n",
      "memory usage: 1.3+ MB\n"
     ]
    }
   ],
   "source": [
    "df.info()"
   ]
  },
  {
   "cell_type": "code",
   "execution_count": 7,
   "id": "8134b5ba-c5ee-492b-afbf-0cf358ec4d9d",
   "metadata": {},
   "outputs": [
    {
     "data": {
      "text/plain": [
       "Index(['Unnamed: 0', 'Location', 'Area', 'Bed', 'Bath', 'Price'], dtype='object')"
      ]
     },
     "execution_count": 7,
     "metadata": {},
     "output_type": "execute_result"
    }
   ],
   "source": [
    "df.columns"
   ]
  },
  {
   "cell_type": "code",
   "execution_count": 8,
   "id": "b52f6abf-8f7b-4f84-b009-9e01f73d60ae",
   "metadata": {},
   "outputs": [],
   "source": [
    "# Rename the header of the column Price as Rent \n",
    "df.rename({'Price': 'Rent'}, axis=1, inplace=True)"
   ]
  },
  {
   "cell_type": "code",
   "execution_count": 9,
   "id": "94a64823-116c-4f50-99d0-e4c8be3aa574",
   "metadata": {},
   "outputs": [],
   "source": [
    "# Treat unnecessary column \"Unnamed: 0\"\n",
    "df.drop(columns=df.columns[0], axis=1, inplace=True)"
   ]
  },
  {
   "cell_type": "code",
   "execution_count": 10,
   "id": "94bae585-67d5-4154-9ace-6057773fde28",
   "metadata": {},
   "outputs": [
    {
     "data": {
      "text/plain": [
       "Location    object\n",
       "Area        object\n",
       "Bed          int64\n",
       "Bath         int64\n",
       "Rent        object\n",
       "dtype: object"
      ]
     },
     "execution_count": 10,
     "metadata": {},
     "output_type": "execute_result"
    }
   ],
   "source": [
    "# Check for datatypes\n",
    "df.dtypes"
   ]
  },
  {
   "cell_type": "code",
   "execution_count": 11,
   "id": "01165e40-9b41-4eff-b6c1-a382c5f53974",
   "metadata": {},
   "outputs": [],
   "source": [
    "import pandas as pd\n",
    "\n",
    "def clean_location_column(df):\n",
    "    # Ensure the column is of string type\n",
    "    column_name = 'Location'\n",
    "    df[column_name] = df[column_name].astype(str)\n",
    "    \n",
    "    # Replace 'nan' strings with actual NaN values\n",
    "    df[column_name] = df[column_name].replace('nan', pd.NA)\n",
    "    \n",
    "    # Print the initial state after conversion\n",
    "    print(\"After conversion to string:\\n\", df[column_name].head())\n",
    "\n",
    "    # Only apply string operations to non-null values and print intermediate steps\n",
    "    df[column_name] = df[column_name].dropna().apply(lambda x: x.split(',')[:-1])\n",
    "    print(\"After splitting and keeping all but the last part:\\n\", df[column_name].head())\n",
    "\n",
    "    # Keep only the last part and strip whitespace\n",
    "    df[column_name] = df[column_name].apply(lambda x: x[-1] if x else pd.NA)\n",
    "    print(\"After selecting the last element:\\n\", df[column_name].head())\n",
    "    \n",
    "    df[column_name] = df[column_name].str.strip()\n",
    "    print(\"After stripping whitespace:\\n\", df[column_name].head())\n",
    "\n",
    "    return df\n",
    "    \n",
    "def clean_location_column1(df):\n",
    "    # Ensure the column is of string type\n",
    "    column_name = 'Location_encoded'\n",
    "    df[column_name] = df[column_name].astype(str)\n",
    "    \n",
    "    # Replace 'nan' strings with actual NaN values\n",
    "    df[column_name] = df[column_name].replace('nan', pd.NA)\n",
    "    \n",
    "    # Print the initial state after conversion\n",
    "    print(\"After conversion to string:\\n\", df[column_name].head())\n",
    "\n",
    "    # Only apply string operations to non-null values and print intermediate steps\n",
    "    df[column_name] = df[column_name].dropna().apply(lambda x: x.split(',')[:-1])\n",
    "    print(\"After splitting and keeping all but the last part:\\n\", df[column_name].head())\n",
    "\n",
    "    # Keep only the last part and strip whitespace\n",
    "    df[column_name] = df[column_name].apply(lambda x: x[-1] if x else pd.NA)\n",
    "    print(\"After selecting the last element:\\n\", df[column_name].head())\n",
    "    \n",
    "    df[column_name] = df[column_name].str.strip()\n",
    "    print(\"After stripping whitespace:\\n\", df[column_name].head())\n",
    "\n",
    "    return df"
   ]
  },
  {
   "cell_type": "code",
   "execution_count": 12,
   "id": "8f3dd63b-b0a6-408d-a05e-f8e0c2802052",
   "metadata": {},
   "outputs": [
    {
     "name": "stdout",
     "output_type": "stream",
     "text": [
      "After conversion to string:\n",
      " 0                      Block H, Bashundhara R-A, Dhaka\n",
      "1                             Farmgate, Tejgaon, Dhaka\n",
      "2    Block B, Nobodoy Housing Society, Mohammadpur,...\n",
      "3                            Gulshan 1, Gulshan, Dhaka\n",
      "4                                     Baridhara, Dhaka\n",
      "Name: Location, dtype: object\n",
      "After splitting and keeping all but the last part:\n",
      " 0                          [Block H,  Bashundhara R-A]\n",
      "1                                 [Farmgate,  Tejgaon]\n",
      "2    [Block B,  Nobodoy Housing Society,  Mohammadpur]\n",
      "3                                [Gulshan 1,  Gulshan]\n",
      "4                                          [Baridhara]\n",
      "Name: Location, dtype: object\n",
      "After selecting the last element:\n",
      " 0     Bashundhara R-A\n",
      "1             Tejgaon\n",
      "2         Mohammadpur\n",
      "3             Gulshan\n",
      "4           Baridhara\n",
      "Name: Location, dtype: object\n",
      "After stripping whitespace:\n",
      " 0    Bashundhara R-A\n",
      "1            Tejgaon\n",
      "2        Mohammadpur\n",
      "3            Gulshan\n",
      "4          Baridhara\n",
      "Name: Location, dtype: object\n",
      "0    Bashundhara R-A\n",
      "1            Tejgaon\n",
      "2        Mohammadpur\n",
      "3            Gulshan\n",
      "4          Baridhara\n",
      "Name: Location, dtype: object\n"
     ]
    },
    {
     "data": {
      "text/plain": [
       "(28800, 5)"
      ]
     },
     "execution_count": 12,
     "metadata": {},
     "output_type": "execute_result"
    }
   ],
   "source": [
    "clean_location_column(df)\n",
    "print(df['Location'].head())\n",
    "df.shape"
   ]
  },
  {
   "cell_type": "code",
   "execution_count": 13,
   "id": "57f8a0a1-f59f-4308-83bc-e328a9fae49e",
   "metadata": {},
   "outputs": [
    {
     "name": "stdout",
     "output_type": "stream",
     "text": [
      "Area Column Data Type: int32\n"
     ]
    },
    {
     "data": {
      "text/plain": [
       "0    1600\n",
       "1     900\n",
       "2    1250\n",
       "3    2200\n",
       "4    2200\n",
       "Name: Area, dtype: int32"
      ]
     },
     "execution_count": 13,
     "metadata": {},
     "output_type": "execute_result"
    }
   ],
   "source": [
    "# Remove sqft from the Area column and formating the digits\n",
    "df['Area']=df['Area'].str.split(' ').str[:-1]\n",
    "# Turn data in the location column into string from list type\n",
    "df['Area'] = df['Area'].apply(lambda x: ''.join(map(str, x)))\n",
    "# Remove comma from the digits\n",
    "df['Area']=df['Area'].str.replace(',', '')\n",
    "# Change datatype of the Area column to int64 from object\n",
    "df['Area'] = df['Area'].astype(int)\n",
    "\n",
    "print(\"Area Column Data Type:\", df['Area'].dtypes)\n",
    "\n",
    "df['Area'].head()"
   ]
  },
  {
   "cell_type": "code",
   "execution_count": 14,
   "id": "23698fab-0472-4698-a1c4-c0383d2d10c0",
   "metadata": {},
   "outputs": [
    {
     "data": {
      "text/plain": [
       "0    20000\n",
       "1    20000\n",
       "2    18000\n",
       "3    75000\n",
       "4    75000\n",
       "Name: Rent, dtype: int32"
      ]
     },
     "execution_count": 14,
     "metadata": {},
     "output_type": "execute_result"
    }
   ],
   "source": [
    "# Format the Rent column as required and changing the datatype to int64\n",
    "df['Rent']=df['Rent'].replace({\"Thousand\":\"*1e3\", \"Lakh\":\"*1e5\"}, regex=True).map(pd.eval).astype(int)\n",
    "\n",
    "df['Rent'].head()"
   ]
  },
  {
   "cell_type": "code",
   "execution_count": null,
   "id": "d34e0928-4b17-498e-b95e-2ce6958c973d",
   "metadata": {},
   "outputs": [],
   "source": []
  },
  {
   "cell_type": "code",
   "execution_count": 15,
   "id": "6c66f9c4-a34e-4241-a420-af06d0d93c5a",
   "metadata": {},
   "outputs": [
    {
     "data": {
      "text/plain": [
       "Location    13\n",
       "Area         0\n",
       "Bed          0\n",
       "Bath         0\n",
       "Rent         0\n",
       "dtype: int64"
      ]
     },
     "execution_count": 15,
     "metadata": {},
     "output_type": "execute_result"
    }
   ],
   "source": [
    "# Check for nan values\n",
    "df.isna().sum()"
   ]
  },
  {
   "cell_type": "code",
   "execution_count": 16,
   "id": "6e4b1480-5bc2-4437-802f-a9851a66ccc8",
   "metadata": {},
   "outputs": [],
   "source": [
    "# Drop the rows containing nan values in the Location column\n",
    "df.dropna(inplace=True)"
   ]
  },
  {
   "cell_type": "code",
   "execution_count": 17,
   "id": "3a2c5465-5a14-4ef6-b5d7-3392c8a8c514",
   "metadata": {},
   "outputs": [],
   "source": [
    "# **Exploratory Data Analysis (EDA)**\n"
   ]
  },
  {
   "cell_type": "code",
   "execution_count": 18,
   "id": "ce0c5938-4062-4255-9265-85039d5063a4",
   "metadata": {},
   "outputs": [
    {
     "data": {
      "text/html": [
       "<div>\n",
       "<style scoped>\n",
       "    .dataframe tbody tr th:only-of-type {\n",
       "        vertical-align: middle;\n",
       "    }\n",
       "\n",
       "    .dataframe tbody tr th {\n",
       "        vertical-align: top;\n",
       "    }\n",
       "\n",
       "    .dataframe thead th {\n",
       "        text-align: right;\n",
       "    }\n",
       "</style>\n",
       "<table border=\"1\" class=\"dataframe\">\n",
       "  <thead>\n",
       "    <tr style=\"text-align: right;\">\n",
       "      <th></th>\n",
       "      <th>Area</th>\n",
       "      <th>Bed</th>\n",
       "      <th>Bath</th>\n",
       "      <th>Rent</th>\n",
       "    </tr>\n",
       "  </thead>\n",
       "  <tbody>\n",
       "    <tr>\n",
       "      <th>count</th>\n",
       "      <td>28787.000000</td>\n",
       "      <td>28787.000000</td>\n",
       "      <td>28787.000000</td>\n",
       "      <td>28787.000000</td>\n",
       "    </tr>\n",
       "    <tr>\n",
       "      <th>mean</th>\n",
       "      <td>1057.316740</td>\n",
       "      <td>2.510995</td>\n",
       "      <td>2.369750</td>\n",
       "      <td>21009.554799</td>\n",
       "    </tr>\n",
       "    <tr>\n",
       "      <th>std</th>\n",
       "      <td>477.767777</td>\n",
       "      <td>0.601339</td>\n",
       "      <td>0.756555</td>\n",
       "      <td>21499.249095</td>\n",
       "    </tr>\n",
       "    <tr>\n",
       "      <th>min</th>\n",
       "      <td>200.000000</td>\n",
       "      <td>1.000000</td>\n",
       "      <td>1.000000</td>\n",
       "      <td>5000.000000</td>\n",
       "    </tr>\n",
       "    <tr>\n",
       "      <th>25%</th>\n",
       "      <td>700.000000</td>\n",
       "      <td>2.000000</td>\n",
       "      <td>2.000000</td>\n",
       "      <td>13000.000000</td>\n",
       "    </tr>\n",
       "    <tr>\n",
       "      <th>50%</th>\n",
       "      <td>900.000000</td>\n",
       "      <td>2.000000</td>\n",
       "      <td>2.000000</td>\n",
       "      <td>16000.000000</td>\n",
       "    </tr>\n",
       "    <tr>\n",
       "      <th>75%</th>\n",
       "      <td>1250.000000</td>\n",
       "      <td>3.000000</td>\n",
       "      <td>3.000000</td>\n",
       "      <td>22000.000000</td>\n",
       "    </tr>\n",
       "    <tr>\n",
       "      <th>max</th>\n",
       "      <td>6300.000000</td>\n",
       "      <td>6.000000</td>\n",
       "      <td>8.000000</td>\n",
       "      <td>650000.000000</td>\n",
       "    </tr>\n",
       "  </tbody>\n",
       "</table>\n",
       "</div>"
      ],
      "text/plain": [
       "               Area           Bed          Bath           Rent\n",
       "count  28787.000000  28787.000000  28787.000000   28787.000000\n",
       "mean    1057.316740      2.510995      2.369750   21009.554799\n",
       "std      477.767777      0.601339      0.756555   21499.249095\n",
       "min      200.000000      1.000000      1.000000    5000.000000\n",
       "25%      700.000000      2.000000      2.000000   13000.000000\n",
       "50%      900.000000      2.000000      2.000000   16000.000000\n",
       "75%     1250.000000      3.000000      3.000000   22000.000000\n",
       "max     6300.000000      6.000000      8.000000  650000.000000"
      ]
     },
     "execution_count": 18,
     "metadata": {},
     "output_type": "execute_result"
    }
   ],
   "source": [
    "# Summarize quantitative data\n",
    "df.describe()\n"
   ]
  },
  {
   "cell_type": "code",
   "execution_count": 19,
   "id": "b4c7c96f-c07f-48cd-ae70-439207f5eb1d",
   "metadata": {},
   "outputs": [
    {
     "data": {
      "image/png": "[encoded data removed]",
      "text/plain": [
       "<Figure size 640x480 with 1 Axes>"
      ]
     },
     "metadata": {},
     "output_type": "display_data"
    }
   ],
   "source": [
    "# Visualize quantitative data with boxplot\n",
    "plt.boxplot(df[\"Area\"], vert=False, widths = 0.6)\n",
    "plt.show()"
   ]
  },
  {
   "cell_type": "code",
   "execution_count": 20,
   "id": "1a99ea28-3aff-4dd2-aec0-e88f5cf018e5",
   "metadata": {},
   "outputs": [
    {
     "data": {
      "image/png": "[encoded data removed]",
      "text/plain": [
       "<Figure size 640x480 with 1 Axes>"
      ]
     },
     "metadata": {},
     "output_type": "display_data"
    }
   ],
   "source": [
    "# Visualize quantitative data with boxplot\n",
    "plt.boxplot(df[\"Bed\"], vert=False, widths = 0.6)\n",
    "plt.show()"
   ]
  },
  {
   "cell_type": "code",
   "execution_count": 21,
   "id": "9cec7885-3896-4242-872c-7eb27291035f",
   "metadata": {},
   "outputs": [
    {
     "data": {
      "image/png": "[encoded data removed]",
      "text/plain": [
       "<Figure size 640x480 with 1 Axes>"
      ]
     },
     "metadata": {},
     "output_type": "display_data"
    }
   ],
   "source": [
    "# Visualize quantitative data with boxplot\n",
    "plt.boxplot(df[\"Bath\"], vert=False, widths = 0.6)\n",
    "plt.show()"
   ]
  },
  {
   "cell_type": "code",
   "execution_count": 22,
   "id": "802d7880-6246-4108-9f38-660bb66f86d8",
   "metadata": {},
   "outputs": [
    {
     "data": {
      "image/png": "[encoded data removed]",
      "text/plain": [
       "<Figure size 640x480 with 1 Axes>"
      ]
     },
     "metadata": {},
     "output_type": "display_data"
    }
   ],
   "source": [
    "# Visualize quantitative data with boxplot\n",
    "plt.boxplot(df[\"Rent\"], vert=False, widths = 0.6)\n",
    "plt.show()"
   ]
  },
  {
   "cell_type": "code",
   "execution_count": 23,
   "id": "b0aa8efa-ca3c-4d96-a6c7-d5d0ff3744f9",
   "metadata": {},
   "outputs": [
    {
     "data": {
      "text/plain": [
       "Location\n",
       "Mirpur             8451\n",
       "Mohammadpur        3612\n",
       "Uttara             2070\n",
       "Badda              1831\n",
       "Bashundhara R-A    1397\n",
       "                   ... \n",
       "Shahbagh              7\n",
       "Demra                 7\n",
       "Keraniganj            3\n",
       "Sadarghat             2\n",
       "Banglamotors          2\n",
       "Name: count, Length: 68, dtype: int64"
      ]
     },
     "execution_count": 23,
     "metadata": {},
     "output_type": "execute_result"
    }
   ],
   "source": [
    "# Summarize categorical data [Location]\n",
    "df[\"Location\"].value_counts()"
   ]
  },
  {
   "cell_type": "code",
   "execution_count": 24,
   "id": "d4aa62c6-f2b5-4eee-ac75-aa23a8f6bd49",
   "metadata": {},
   "outputs": [
    {
     "data": {
      "text/plain": [
       "Bed\n",
       "2    14272\n",
       "3    12965\n",
       "4     1063\n",
       "1      461\n",
       "5       24\n",
       "6        2\n",
       "Name: count, dtype: int64"
      ]
     },
     "execution_count": 24,
     "metadata": {},
     "output_type": "execute_result"
    }
   ],
   "source": [
    "# Summarize data [Bed]\n",
    "df[\"Bed\"].value_counts()"
   ]
  },
  {
   "cell_type": "code",
   "execution_count": 25,
   "id": "4ed9066a-793b-4908-a4ec-5ffcdde84e84",
   "metadata": {},
   "outputs": [
    {
     "data": {
      "text/plain": [
       "Bath\n",
       "2    15765\n",
       "3     8465\n",
       "1     2364\n",
       "4     2046\n",
       "5      139\n",
       "6        7\n",
       "8        1\n",
       "Name: count, dtype: int64"
      ]
     },
     "execution_count": 25,
     "metadata": {},
     "output_type": "execute_result"
    }
   ],
   "source": [
    "# Summarize categorical data [Bath]\n",
    "df[\"Bath\"].value_counts()"
   ]
  },
  {
   "cell_type": "code",
   "execution_count": 26,
   "id": "e0d1ae60-5f30-46c0-b560-a6a78479e0c5",
   "metadata": {},
   "outputs": [
    {
     "data": {
      "image/png": "[encoded data removed]",
      "text/plain": [
       "<Figure size 640x480 with 1 Axes>"
      ]
     },
     "metadata": {},
     "output_type": "display_data"
    }
   ],
   "source": [
    "plt.scatter(df[\"Area\"], df[\"Rent\"])\n",
    "plt.show()"
   ]
  },
  {
   "cell_type": "code",
   "execution_count": 27,
   "id": "9b6453b5-4a63-4507-9d39-1d5644f94c66",
   "metadata": {},
   "outputs": [
    {
     "data": {
      "image/png": "[encoded data removed]",
      "text/plain": [
       "<Figure size 640x480 with 1 Axes>"
      ]
     },
     "metadata": {},
     "output_type": "display_data"
    }
   ],
   "source": [
    "# Show relationship between Bed and Rent\n",
    "plt.scatter(df[\"Bed\"], df[\"Rent\"])\n",
    "plt.show()"
   ]
  },
  {
   "cell_type": "code",
   "execution_count": 28,
   "id": "d9760064-a2db-4e6a-bed8-869a3df54e4f",
   "metadata": {},
   "outputs": [
    {
     "data": {
      "image/png": "[encoded data removed]",
      "text/plain": [
       "<Figure size 640x480 with 1 Axes>"
      ]
     },
     "metadata": {},
     "output_type": "display_data"
    }
   ],
   "source": [
    "# Show relationship between Bath and Rent\n",
    "plt.scatter(df[\"Bath\"], df[\"Rent\"])\n",
    "plt.show()"
   ]
  },
  {
   "cell_type": "code",
   "execution_count": 29,
   "id": "391b9da7-964c-4ff2-9c8d-c55d1e6bc559",
   "metadata": {},
   "outputs": [
    {
     "name": "stdout",
     "output_type": "stream",
     "text": [
      "          Area       Bed      Bath      Rent\n",
      "Area  1.000000  0.774539  0.808109  0.747651\n",
      "Bed   0.774539  1.000000  0.759157  0.426704\n",
      "Bath  0.808109  0.759157  1.000000  0.481407\n",
      "Rent  0.747651  0.426704  0.481407  1.000000\n"
     ]
    }
   ],
   "source": [
    "# Show Pearson's Correlation\n",
    "numeric_df = df.select_dtypes(include=['number'])\n",
    "correlation_matrix = numeric_df.corr(method='pearson')\n",
    "print(correlation_matrix)"
   ]
  },
  {
   "cell_type": "code",
   "execution_count": 30,
   "id": "b88c6346-7721-495f-b6f2-004a2b490f55",
   "metadata": {},
   "outputs": [
    {
     "data": {
      "image/png": "[encoded data removed]",
      "text/plain": [
       "<Figure size 1000x600 with 2 Axes>"
      ]
     },
     "metadata": {},
     "output_type": "display_data"
    }
   ],
   "source": [
    "# Create heatmap\n",
    "import matplotlib.pyplot as plt\n",
    "import seaborn as sns\n",
    "\n",
    "# Filter out only numeric columns\n",
    "numeric_df = df.select_dtypes(include=['number'])\n",
    "\n",
    "# Calculate the correlation matrix\n",
    "correlation_matrix = numeric_df.corr(method='pearson')\n",
    "\n",
    "# Step 2: Create the heatmap\n",
    "plt.figure(figsize=(10, 6))\n",
    "heatmap = sns.heatmap(correlation_matrix, vmin=0, vmax=1, annot=True)\n",
    "plt.title(\"Pearson Correlation\")\n",
    "plt.show()"
   ]
  },
  {
   "cell_type": "code",
   "execution_count": 31,
   "id": "d27a64fa-2fe9-433b-b92c-af199aa76bfc",
   "metadata": {},
   "outputs": [
    {
     "name": "stdout",
     "output_type": "stream",
     "text": [
      "(28787, 5)\n"
     ]
    }
   ],
   "source": [
    "# Get the names of all locations\n",
    "df['Location'].unique()\n",
    "print(df.shape)"
   ]
  },
  {
   "cell_type": "code",
   "execution_count": 32,
   "id": "2c3ae984-bce3-4bd4-9eb6-fc381b90be6d",
   "metadata": {},
   "outputs": [
    {
     "name": "stdout",
     "output_type": "stream",
     "text": [
      "Rows containing the specific value:\n",
      "       Location  Area  Bed  Bath   Rent\n",
      "21964  Zafrabad   750    2     2  12000\n",
      "23303  Zafrabad   800    2     2  13000\n",
      "28367  Zafrabad   800    2     2  15000\n",
      "28369  Zafrabad   800    2     2  15000\n",
      "28370  Zafrabad   800    2     2  15000\n",
      "28371  Zafrabad   800    2     2  12000\n",
      "28511  Zafrabad   800    2     2  15000\n",
      "\n",
      "Columns containing the specific value:\n",
      "              Location\n",
      "0      Bashundhara R-A\n",
      "1              Tejgaon\n",
      "2          Mohammadpur\n",
      "3              Gulshan\n",
      "4            Baridhara\n",
      "...                ...\n",
      "28795           Mirpur\n",
      "28796  Bashundhara R-A\n",
      "28797        Motijheel\n",
      "28798          Rampura\n",
      "28799            Badda\n",
      "\n",
      "[28787 rows x 1 columns]\n"
     ]
    }
   ],
   "source": [
    "df['Location'].unique()\n",
    "value = 'Zafrabad'\n",
    "# Find all rows that contain the specific value\n",
    "rows_with_value = df[df.isin([value]).any(axis=1)]\n",
    "\n",
    "# Find all columns that contain the specific value\n",
    "columns_with_value = df.loc[:, df.isin([value]).any()]\n",
    "\n",
    "# Display results\n",
    "print(\"Rows containing the specific value:\")\n",
    "print(rows_with_value)\n",
    "\n",
    "print(\"\\nColumns containing the specific value:\")\n",
    "print(columns_with_value)\n",
    "\n"
   ]
  },
  {
   "cell_type": "code",
   "execution_count": 33,
   "id": "55678749-31c2-40bc-b246-decc0562671c",
   "metadata": {},
   "outputs": [
    {
     "data": {
      "text/html": [
       "<div>\n",
       "<style scoped>\n",
       "    .dataframe tbody tr th:only-of-type {\n",
       "        vertical-align: middle;\n",
       "    }\n",
       "\n",
       "    .dataframe tbody tr th {\n",
       "        vertical-align: top;\n",
       "    }\n",
       "\n",
       "    .dataframe thead th {\n",
       "        text-align: right;\n",
       "    }\n",
       "</style>\n",
       "<table border=\"1\" class=\"dataframe\">\n",
       "  <thead>\n",
       "    <tr style=\"text-align: right;\">\n",
       "      <th></th>\n",
       "      <th>Location</th>\n",
       "      <th>Area</th>\n",
       "      <th>Bed</th>\n",
       "      <th>Bath</th>\n",
       "      <th>Rent</th>\n",
       "    </tr>\n",
       "  </thead>\n",
       "  <tbody>\n",
       "    <tr>\n",
       "      <th>0</th>\n",
       "      <td>Bashundhara R-A</td>\n",
       "      <td>0.229508</td>\n",
       "      <td>0.4</td>\n",
       "      <td>0.285714</td>\n",
       "      <td>20000</td>\n",
       "    </tr>\n",
       "    <tr>\n",
       "      <th>1</th>\n",
       "      <td>Tejgaon</td>\n",
       "      <td>0.114754</td>\n",
       "      <td>0.2</td>\n",
       "      <td>0.142857</td>\n",
       "      <td>20000</td>\n",
       "    </tr>\n",
       "    <tr>\n",
       "      <th>2</th>\n",
       "      <td>Mohammadpur</td>\n",
       "      <td>0.172131</td>\n",
       "      <td>0.4</td>\n",
       "      <td>0.285714</td>\n",
       "      <td>18000</td>\n",
       "    </tr>\n",
       "    <tr>\n",
       "      <th>3</th>\n",
       "      <td>Gulshan</td>\n",
       "      <td>0.327869</td>\n",
       "      <td>0.4</td>\n",
       "      <td>0.428571</td>\n",
       "      <td>75000</td>\n",
       "    </tr>\n",
       "    <tr>\n",
       "      <th>4</th>\n",
       "      <td>Baridhara</td>\n",
       "      <td>0.327869</td>\n",
       "      <td>0.4</td>\n",
       "      <td>0.285714</td>\n",
       "      <td>75000</td>\n",
       "    </tr>\n",
       "  </tbody>\n",
       "</table>\n",
       "</div>"
      ],
      "text/plain": [
       "          Location      Area  Bed      Bath   Rent\n",
       "0  Bashundhara R-A  0.229508  0.4  0.285714  20000\n",
       "1          Tejgaon  0.114754  0.2  0.142857  20000\n",
       "2      Mohammadpur  0.172131  0.4  0.285714  18000\n",
       "3          Gulshan  0.327869  0.4  0.428571  75000\n",
       "4        Baridhara  0.327869  0.4  0.285714  75000"
      ]
     },
     "execution_count": 33,
     "metadata": {},
     "output_type": "execute_result"
    }
   ],
   "source": [
    "# Columns to normalize\n",
    "columns_to_normalize = ['Area', 'Bed', 'Bath']\n",
    "\n",
    "# Initialize the MinMaxScaler\n",
    "scaler = MinMaxScaler()\n",
    "\n",
    "# Fit and transform the selected columns\n",
    "df[columns_to_normalize] = scaler.fit_transform(df[columns_to_normalize])\n",
    "\n",
    "joblib.dump(scaler, 'scaler.pkl')\n",
    "\n",
    "# Display the first 5 rows\n",
    "df.head()"
   ]
  },
  {
   "cell_type": "code",
   "execution_count": 34,
   "id": "e4e5b480-26a1-45ac-8e10-b95985742e1e",
   "metadata": {
    "scrolled": true
   },
   "outputs": [
    {
     "data": {
      "text/plain": [
       "['label_encoder.pkl']"
      ]
     },
     "execution_count": 34,
     "metadata": {},
     "output_type": "execute_result"
    }
   ],
   "source": [
    "# One-hot encode the 'Location' column\n",
    "from sklearn.preprocessing import LabelEncoder\n",
    "encoder = LabelEncoder()\n",
    "df['Location_encoded'] = encoder.fit_transform(df['Location'])\n",
    "\n",
    "# Save the trained LabelEncoder to a file\n",
    "joblib.dump(encoder, 'label_encoder.pkl')\n"
   ]
  },
  {
   "cell_type": "code",
   "execution_count": 35,
   "id": "dc92ca84-7a60-4fd5-b9eb-262da97d879a",
   "metadata": {},
   "outputs": [
    {
     "data": {
      "text/html": [
       "<div>\n",
       "<style scoped>\n",
       "    .dataframe tbody tr th:only-of-type {\n",
       "        vertical-align: middle;\n",
       "    }\n",
       "\n",
       "    .dataframe tbody tr th {\n",
       "        vertical-align: top;\n",
       "    }\n",
       "\n",
       "    .dataframe thead th {\n",
       "        text-align: right;\n",
       "    }\n",
       "</style>\n",
       "<table border=\"1\" class=\"dataframe\">\n",
       "  <thead>\n",
       "    <tr style=\"text-align: right;\">\n",
       "      <th></th>\n",
       "      <th>Location</th>\n",
       "      <th>Area</th>\n",
       "      <th>Bed</th>\n",
       "      <th>Bath</th>\n",
       "      <th>Rent</th>\n",
       "      <th>Location_encoded</th>\n",
       "    </tr>\n",
       "  </thead>\n",
       "  <tbody>\n",
       "    <tr>\n",
       "      <th>0</th>\n",
       "      <td>Bashundhara R-A</td>\n",
       "      <td>0.229508</td>\n",
       "      <td>0.4</td>\n",
       "      <td>0.285714</td>\n",
       "      <td>20000</td>\n",
       "      <td>12</td>\n",
       "    </tr>\n",
       "    <tr>\n",
       "      <th>1</th>\n",
       "      <td>Tejgaon</td>\n",
       "      <td>0.114754</td>\n",
       "      <td>0.2</td>\n",
       "      <td>0.142857</td>\n",
       "      <td>20000</td>\n",
       "      <td>63</td>\n",
       "    </tr>\n",
       "    <tr>\n",
       "      <th>2</th>\n",
       "      <td>Mohammadpur</td>\n",
       "      <td>0.172131</td>\n",
       "      <td>0.4</td>\n",
       "      <td>0.285714</td>\n",
       "      <td>18000</td>\n",
       "      <td>43</td>\n",
       "    </tr>\n",
       "    <tr>\n",
       "      <th>3</th>\n",
       "      <td>Gulshan</td>\n",
       "      <td>0.327869</td>\n",
       "      <td>0.4</td>\n",
       "      <td>0.428571</td>\n",
       "      <td>75000</td>\n",
       "      <td>18</td>\n",
       "    </tr>\n",
       "    <tr>\n",
       "      <th>4</th>\n",
       "      <td>Baridhara</td>\n",
       "      <td>0.327869</td>\n",
       "      <td>0.4</td>\n",
       "      <td>0.285714</td>\n",
       "      <td>75000</td>\n",
       "      <td>9</td>\n",
       "    </tr>\n",
       "  </tbody>\n",
       "</table>\n",
       "</div>"
      ],
      "text/plain": [
       "          Location      Area  Bed      Bath   Rent  Location_encoded\n",
       "0  Bashundhara R-A  0.229508  0.4  0.285714  20000                12\n",
       "1          Tejgaon  0.114754  0.2  0.142857  20000                63\n",
       "2      Mohammadpur  0.172131  0.4  0.285714  18000                43\n",
       "3          Gulshan  0.327869  0.4  0.428571  75000                18\n",
       "4        Baridhara  0.327869  0.4  0.285714  75000                 9"
      ]
     },
     "execution_count": 35,
     "metadata": {},
     "output_type": "execute_result"
    }
   ],
   "source": [
    "df.head()"
   ]
  },
  {
   "cell_type": "code",
   "execution_count": 36,
   "id": "17a204b7-bb70-4531-a226-113a88bff2f2",
   "metadata": {},
   "outputs": [
    {
     "name": "stdout",
     "output_type": "stream",
     "text": [
      "Shape of X_train (23029, 4)\n",
      "Shape of X_test (5758, 4)\n",
      "Shape of y_train (23029,)\n",
      "Shape of y_test (5758,)\n"
     ]
    }
   ],
   "source": [
    "# Add the one-hot encoded Location columns to the features\n",
    "features = df[['Area', 'Bed', 'Bath'] + [col for col in df.columns if 'Location_' in col]]\n",
    "\n",
    "# Define the target variable\n",
    "target = df['Rent']\n",
    "\n",
    "# Split the dataset into training and test sets (80% for training, 20% for testing)\n",
    "X_train, X_test, y_train, y_test = train_test_split(features, target, test_size=0.2, random_state=0)\n",
    "\n",
    "print(\"Shape of X_train\", X_train.shape)\n",
    "print(\"Shape of X_test\", X_test.shape)\n",
    "print(\"Shape of y_train\", y_train.shape)\n",
    "print(\"Shape of y_test\", y_test.shape)"
   ]
  },
  {
   "cell_type": "code",
   "execution_count": 37,
   "id": "435f063d-a72d-41fb-98b8-6a391719542f",
   "metadata": {},
   "outputs": [],
   "source": [
    "from sklearn.preprocessing import MinMaxScaler,OneHotEncoder, StandardScaler\n",
    "from sklearn.model_selection import train_test_split, GridSearchCV\n",
    "from sklearn.metrics import mean_squared_error,r2_score\n",
    "from sklearn.linear_model import LinearRegression, Ridge, Lasso, BayesianRidge\n",
    "from sklearn.ensemble import RandomForestRegressor\n",
    "from sklearn.compose import make_column_transformer"
   ]
  },
  {
   "cell_type": "code",
   "execution_count": 38,
   "id": "df0259cd-dbc5-49f4-8fdf-9a786e05a02d",
   "metadata": {},
   "outputs": [],
   "source": [
    "column_trans = make_column_transformer(\n",
    "    (OneHotEncoder(sparse_output=False), ['Location']),\n",
    "    remainder='passthrough'\n",
    ")"
   ]
  },
  {
   "cell_type": "code",
   "execution_count": 39,
   "id": "c83945b1-7ac1-42a1-83d7-9ea0b99f1c5b",
   "metadata": {},
   "outputs": [
    {
     "name": "stdout",
     "output_type": "stream",
     "text": [
      "Root Mean Squared Error:  13468.196110657773\n"
     ]
    }
   ],
   "source": [
    "# Linear Regression\n",
    "lr = LinearRegression()\n",
    "lr.fit(X_train,y_train)\n",
    "y_pred = lr.predict(X_test)\n",
    "lr_mse = mean_squared_error(y_test, y_pred)\n",
    "print(\"Root Mean Squared Error: \", np.sqrt(lr_mse))"
   ]
  },
  {
   "cell_type": "code",
   "execution_count": 40,
   "id": "8e9152fe-020d-4300-b5dc-564ec18136ac",
   "metadata": {},
   "outputs": [
    {
     "data": {
      "text/plain": [
       "0.6309295935183539"
      ]
     },
     "execution_count": 40,
     "metadata": {},
     "output_type": "execute_result"
    }
   ],
   "source": [
    "r2_score(y_test,y_pred)"
   ]
  },
  {
   "cell_type": "code",
   "execution_count": 41,
   "id": "82d88a3f-4d4c-4013-a551-22c84f25324b",
   "metadata": {},
   "outputs": [
    {
     "name": "stdout",
     "output_type": "stream",
     "text": [
      "Root Mean Squared Error:  7214.432655376515\n"
     ]
    },
    {
     "data": {
      "text/plain": [
       "0.8941003005395908"
      ]
     },
     "execution_count": 41,
     "metadata": {},
     "output_type": "execute_result"
    }
   ],
   "source": [
    "# Random Forest Regressor\n",
    "rf = RandomForestRegressor(n_estimators=100, random_state=42)\n",
    "rf.fit(X_train, y_train)\n",
    "y_pred = rf.predict(X_test)\n",
    "rf_mse = mean_squared_error(y_test, y_pred)\n",
    "print(\"Root Mean Squared Error: \", np.sqrt(rf_mse))\n",
    "r2_score(y_test,y_pred)"
   ]
  },
  {
   "cell_type": "code",
   "execution_count": 42,
   "id": "65e83878-a90d-4cc0-88d0-d259b469c84e",
   "metadata": {},
   "outputs": [
    {
     "data": {
      "text/plain": [
       "0.8941003005395908"
      ]
     },
     "execution_count": 42,
     "metadata": {},
     "output_type": "execute_result"
    }
   ],
   "source": [
    "r2_score(y_test,y_pred)"
   ]
  },
  {
   "cell_type": "code",
   "execution_count": 43,
   "id": "a2351bcc-49ab-4d5e-b3fd-4ad4c331360a",
   "metadata": {},
   "outputs": [
    {
     "name": "stdout",
     "output_type": "stream",
     "text": [
      "Root Mean Squared Error:  8081.352962686229\n"
     ]
    }
   ],
   "source": [
    "# XGBoost Regressor\n",
    "xgb = XGBRegressor(n_estimators=100, random_state=42)\n",
    "xgb.fit(X_train, y_train)\n",
    "y_pred = xgb.predict(X_test)\n",
    "xgb_mse = mean_squared_error(y_test, y_pred)\n",
    "print(\"Root Mean Squared Error: \", np.sqrt(xgb_mse))"
   ]
  },
  {
   "cell_type": "code",
   "execution_count": 44,
   "id": "3c90f311-2451-44b8-8313-7d071c4f1540",
   "metadata": {},
   "outputs": [
    {
     "data": {
      "text/plain": [
       "0.8671203391165402"
      ]
     },
     "execution_count": 44,
     "metadata": {},
     "output_type": "execute_result"
    }
   ],
   "source": [
    "r2_score(y_test,y_pred)"
   ]
  },
  {
   "cell_type": "code",
   "execution_count": 45,
   "id": "e070588b-bb8d-4d9a-a3a6-66c2e12b9960",
   "metadata": {},
   "outputs": [
    {
     "name": "stdout",
     "output_type": "stream",
     "text": [
      "Root Mean Squared Error:  13482.735391994089\n"
     ]
    }
   ],
   "source": [
    "# Ridge Regressor\n",
    "ridge = Ridge(alpha=1.0)\n",
    "ridge.fit(X_train, y_train)\n",
    "y_pred = ridge.predict(X_test)\n",
    "ridge_mse = mean_squared_error(y_test, y_pred)\n",
    "print(\"Root Mean Squared Error: \", np.sqrt(ridge_mse))"
   ]
  },
  {
   "cell_type": "code",
   "execution_count": 46,
   "id": "c4da8772-979d-4607-8189-d9c58362bc25",
   "metadata": {},
   "outputs": [
    {
     "data": {
      "text/plain": [
       "0.6301323204745781"
      ]
     },
     "execution_count": 46,
     "metadata": {},
     "output_type": "execute_result"
    }
   ],
   "source": [
    "r2_score(y_test,y_pred)"
   ]
  },
  {
   "cell_type": "code",
   "execution_count": 47,
   "id": "b60aba88-1e07-4853-85be-7e80583e772c",
   "metadata": {},
   "outputs": [
    {
     "name": "stdout",
     "output_type": "stream",
     "text": [
      "Root Mean Squared Error:  13469.246204048934\n"
     ]
    }
   ],
   "source": [
    "# Lasso Regressor\n",
    "lasso = Lasso(alpha=1.0)\n",
    "lasso.fit(X_train, y_train)\n",
    "y_pred = lasso.predict(X_test)\n",
    "lasso_mse = mean_squared_error(y_test, y_pred)\n",
    "print(\"Root Mean Squared Error: \", np.sqrt(lasso_mse))"
   ]
  },
  {
   "cell_type": "code",
   "execution_count": 48,
   "id": "8adab90d-2893-4aa7-89bc-4baa3f65be0d",
   "metadata": {},
   "outputs": [
    {
     "data": {
      "text/plain": [
       "0.6308720396336043"
      ]
     },
     "execution_count": 48,
     "metadata": {},
     "output_type": "execute_result"
    }
   ],
   "source": [
    "r2_score(y_test,y_pred)"
   ]
  },
  {
   "cell_type": "code",
   "execution_count": 49,
   "id": "f205b6e6-3a93-4ada-aede-ba8e44cb39aa",
   "metadata": {},
   "outputs": [
    {
     "name": "stdout",
     "output_type": "stream",
     "text": [
      "[LightGBM] [Info] Auto-choosing row-wise multi-threading, the overhead of testing was 0.000584 seconds.\n",
      "You can set `force_row_wise=true` to remove the overhead.\n",
      "And if memory is not enough, you can set `force_col_wise=true`.\n",
      "[LightGBM] [Info] Total Bins 289\n",
      "[LightGBM] [Info] Number of data points in the train set: 23029, number of used features: 4\n",
      "[LightGBM] [Info] Start training from score 20944.320466\n",
      "Root Mean Squared Error:  7790.291554052187\n"
     ]
    }
   ],
   "source": [
    "# LightGBM Regressor\n",
    "lgbm = LGBMRegressor(n_estimators=100)\n",
    "lgbm.fit(X_train, y_train)\n",
    "y_pred = lgbm.predict(X_test)\n",
    "lgbm_mse = mean_squared_error(y_test, y_pred)\n",
    "print(\"Root Mean Squared Error: \", np.sqrt(lgbm_mse))"
   ]
  },
  {
   "cell_type": "code",
   "execution_count": 50,
   "id": "b14273c9-deea-4c06-b4c8-a35bce987f59",
   "metadata": {},
   "outputs": [
    {
     "data": {
      "text/plain": [
       "0.8765196694915631"
      ]
     },
     "execution_count": 50,
     "metadata": {},
     "output_type": "execute_result"
    }
   ],
   "source": [
    "r2_score(y_test,y_pred)"
   ]
  },
  {
   "cell_type": "code",
   "execution_count": 51,
   "id": "544d5d81-5c2f-4b1e-b0e1-3bb3c9868412",
   "metadata": {},
   "outputs": [],
   "source": [
    "random_forest = RandomForestRegressor()"
   ]
  },
  {
   "cell_type": "code",
   "execution_count": 52,
   "id": "3ecd4eeb-b7c3-4bed-947e-b25755769a49",
   "metadata": {},
   "outputs": [],
   "source": [
    "from sklearn.pipeline import Pipeline"
   ]
  },
  {
   "cell_type": "code",
   "execution_count": 53,
   "id": "172bab75-d31e-4e84-ba67-3b6ce11488f7",
   "metadata": {},
   "outputs": [],
   "source": [
    "pipeline = Pipeline([\n",
    "    ('scaler', StandardScaler()),\n",
    "    ('random_forest', RandomForestRegressor(n_estimators=100, max_depth=10, random_state=42))\n",
    "])"
   ]
  },
  {
   "cell_type": "code",
   "execution_count": 54,
   "id": "2b2b48ef-e9d2-49bc-807a-75bd7f7d8ed6",
   "metadata": {},
   "outputs": [
    {
     "data": {
      "text/html": [
       "<style>#sk-container-id-1 {\n",
       "  /* Definition of color scheme common for light and dark mode */\n",
       "  --sklearn-color-text: black;\n",
       "  --sklearn-color-line: gray;\n",
       "  /* Definition of color scheme for unfitted estimators */\n",
       "  --sklearn-color-unfitted-level-0: #fff5e6;\n",
       "  --sklearn-color-unfitted-level-1: #f6e4d2;\n",
       "  --sklearn-color-unfitted-level-2: #ffe0b3;\n",
       "  --sklearn-color-unfitted-level-3: chocolate;\n",
       "  /* Definition of color scheme for fitted estimators */\n",
       "  --sklearn-color-fitted-level-0: #f0f8ff;\n",
       "  --sklearn-color-fitted-level-1: #d4ebff;\n",
       "  --sklearn-color-fitted-level-2: #b3dbfd;\n",
       "  --sklearn-color-fitted-level-3: cornflowerblue;\n",
       "\n",
       "  /* Specific color for light theme */\n",
       "  --sklearn-color-text-on-default-background: var(--sg-text-color, var(--theme-code-foreground, var(--jp-content-font-color1, black)));\n",
       "  --sklearn-color-background: var(--sg-background-color, var(--theme-background, var(--jp-layout-color0, white)));\n",
       "  --sklearn-color-border-box: var(--sg-text-color, var(--theme-code-foreground, var(--jp-content-font-color1, black)));\n",
       "  --sklearn-color-icon: #696969;\n",
       "\n",
       "  @media (prefers-color-scheme: dark) {\n",
       "    /* Redefinition of color scheme for dark theme */\n",
       "    --sklearn-color-text-on-default-background: var(--sg-text-color, var(--theme-code-foreground, var(--jp-content-font-color1, white)));\n",
       "    --sklearn-color-background: var(--sg-background-color, var(--theme-background, var(--jp-layout-color0, #111)));\n",
       "    --sklearn-color-border-box: var(--sg-text-color, var(--theme-code-foreground, var(--jp-content-font-color1, white)));\n",
       "    --sklearn-color-icon: #878787;\n",
       "  }\n",
       "}\n",
       "\n",
       "#sk-container-id-1 {\n",
       "  color: var(--sklearn-color-text);\n",
       "}\n",
       "\n",
       "#sk-container-id-1 pre {\n",
       "  padding: 0;\n",
       "}\n",
       "\n",
       "#sk-container-id-1 input.sk-hidden--visually {\n",
       "  border: 0;\n",
       "  clip: rect(1px 1px 1px 1px);\n",
       "  clip: rect(1px, 1px, 1px, 1px);\n",
       "  height: 1px;\n",
       "  margin: -1px;\n",
       "  overflow: hidden;\n",
       "  padding: 0;\n",
       "  position: absolute;\n",
       "  width: 1px;\n",
       "}\n",
       "\n",
       "#sk-container-id-1 div.sk-dashed-wrapped {\n",
       "  border: 1px dashed var(--sklearn-color-line);\n",
       "  margin: 0 0.4em 0.5em 0.4em;\n",
       "  box-sizing: border-box;\n",
       "  padding-bottom: 0.4em;\n",
       "  background-color: var(--sklearn-color-background);\n",
       "}\n",
       "\n",
       "#sk-container-id-1 div.sk-container {\n",
       "  /* jupyter's `normalize.less` sets `[hidden] { display: none; }`\n",
       "     but bootstrap.min.css set `[hidden] { display: none !important; }`\n",
       "     so we also need the `!important` here to be able to override the\n",
       "     default hidden behavior on the sphinx rendered scikit-learn.org.\n",
       "     See: https://github.com/scikit-learn/scikit-learn/issues/21755 */\n",
       "  display: inline-block !important;\n",
       "  position: relative;\n",
       "}\n",
       "\n",
       "#sk-container-id-1 div.sk-text-repr-fallback {\n",
       "  display: none;\n",
       "}\n",
       "\n",
       "div.sk-parallel-item,\n",
       "div.sk-serial,\n",
       "div.sk-item {\n",
       "  /* draw centered vertical line to link estimators */\n",
       "  background-image: linear-gradient(var(--sklearn-color-text-on-default-background), var(--sklearn-color-text-on-default-background));\n",
       "  background-size: 2px 100%;\n",
       "  background-repeat: no-repeat;\n",
       "  background-position: center center;\n",
       "}\n",
       "\n",
       "/* Parallel-specific style estimator block */\n",
       "\n",
       "#sk-container-id-1 div.sk-parallel-item::after {\n",
       "  content: \"\";\n",
       "  width: 100%;\n",
       "  border-bottom: 2px solid var(--sklearn-color-text-on-default-background);\n",
       "  flex-grow: 1;\n",
       "}\n",
       "\n",
       "#sk-container-id-1 div.sk-parallel {\n",
       "  display: flex;\n",
       "  align-items: stretch;\n",
       "  justify-content: center;\n",
       "  background-color: var(--sklearn-color-background);\n",
       "  position: relative;\n",
       "}\n",
       "\n",
       "#sk-container-id-1 div.sk-parallel-item {\n",
       "  display: flex;\n",
       "  flex-direction: column;\n",
       "}\n",
       "\n",
       "#sk-container-id-1 div.sk-parallel-item:first-child::after {\n",
       "  align-self: flex-end;\n",
       "  width: 50%;\n",
       "}\n",
       "\n",
       "#sk-container-id-1 div.sk-parallel-item:last-child::after {\n",
       "  align-self: flex-start;\n",
       "  width: 50%;\n",
       "}\n",
       "\n",
       "#sk-container-id-1 div.sk-parallel-item:only-child::after {\n",
       "  width: 0;\n",
       "}\n",
       "\n",
       "/* Serial-specific style estimator block */\n",
       "\n",
       "#sk-container-id-1 div.sk-serial {\n",
       "  display: flex;\n",
       "  flex-direction: column;\n",
       "  align-items: center;\n",
       "  background-color: var(--sklearn-color-background);\n",
       "  padding-right: 1em;\n",
       "  padding-left: 1em;\n",
       "}\n",
       "\n",
       "\n",
       "/* Toggleable style: style used for estimator/Pipeline/ColumnTransformer box that is\n",
       "clickable and can be expanded/collapsed.\n",
       "- Pipeline and ColumnTransformer use this feature and define the default style\n",
       "- Estimators will overwrite some part of the style using the `sk-estimator` class\n",
       "*/\n",
       "\n",
       "/* Pipeline and ColumnTransformer style (default) */\n",
       "\n",
       "#sk-container-id-1 div.sk-toggleable {\n",
       "  /* Default theme specific background. It is overwritten whether we have a\n",
       "  specific estimator or a Pipeline/ColumnTransformer */\n",
       "  background-color: var(--sklearn-color-background);\n",
       "}\n",
       "\n",
       "/* Toggleable label */\n",
       "#sk-container-id-1 label.sk-toggleable__label {\n",
       "  cursor: pointer;\n",
       "  display: block;\n",
       "  width: 100%;\n",
       "  margin-bottom: 0;\n",
       "  padding: 0.5em;\n",
       "  box-sizing: border-box;\n",
       "  text-align: center;\n",
       "}\n",
       "\n",
       "#sk-container-id-1 label.sk-toggleable__label-arrow:before {\n",
       "  /* Arrow on the left of the label */\n",
       "  content: \"▸\";\n",
       "  float: left;\n",
       "  margin-right: 0.25em;\n",
       "  color: var(--sklearn-color-icon);\n",
       "}\n",
       "\n",
       "#sk-container-id-1 label.sk-toggleable__label-arrow:hover:before {\n",
       "  color: var(--sklearn-color-text);\n",
       "}\n",
       "\n",
       "/* Toggleable content - dropdown */\n",
       "\n",
       "#sk-container-id-1 div.sk-toggleable__content {\n",
       "  max-height: 0;\n",
       "  max-width: 0;\n",
       "  overflow: hidden;\n",
       "  text-align: left;\n",
       "  /* unfitted */\n",
       "  background-color: var(--sklearn-color-unfitted-level-0);\n",
       "}\n",
       "\n",
       "#sk-container-id-1 div.sk-toggleable__content.fitted {\n",
       "  /* fitted */\n",
       "  background-color: var(--sklearn-color-fitted-level-0);\n",
       "}\n",
       "\n",
       "#sk-container-id-1 div.sk-toggleable__content pre {\n",
       "  margin: 0.2em;\n",
       "  border-radius: 0.25em;\n",
       "  color: var(--sklearn-color-text);\n",
       "  /* unfitted */\n",
       "  background-color: var(--sklearn-color-unfitted-level-0);\n",
       "}\n",
       "\n",
       "#sk-container-id-1 div.sk-toggleable__content.fitted pre {\n",
       "  /* unfitted */\n",
       "  background-color: var(--sklearn-color-fitted-level-0);\n",
       "}\n",
       "\n",
       "#sk-container-id-1 input.sk-toggleable__control:checked~div.sk-toggleable__content {\n",
       "  /* Expand drop-down */\n",
       "  max-height: 200px;\n",
       "  max-width: 100%;\n",
       "  overflow: auto;\n",
       "}\n",
       "\n",
       "#sk-container-id-1 input.sk-toggleable__control:checked~label.sk-toggleable__label-arrow:before {\n",
       "  content: \"▾\";\n",
       "}\n",
       "\n",
       "/* Pipeline/ColumnTransformer-specific style */\n",
       "\n",
       "#sk-container-id-1 div.sk-label input.sk-toggleable__control:checked~label.sk-toggleable__label {\n",
       "  color: var(--sklearn-color-text);\n",
       "  background-color: var(--sklearn-color-unfitted-level-2);\n",
       "}\n",
       "\n",
       "#sk-container-id-1 div.sk-label.fitted input.sk-toggleable__control:checked~label.sk-toggleable__label {\n",
       "  background-color: var(--sklearn-color-fitted-level-2);\n",
       "}\n",
       "\n",
       "/* Estimator-specific style */\n",
       "\n",
       "/* Colorize estimator box */\n",
       "#sk-container-id-1 div.sk-estimator input.sk-toggleable__control:checked~label.sk-toggleable__label {\n",
       "  /* unfitted */\n",
       "  background-color: var(--sklearn-color-unfitted-level-2);\n",
       "}\n",
       "\n",
       "#sk-container-id-1 div.sk-estimator.fitted input.sk-toggleable__control:checked~label.sk-toggleable__label {\n",
       "  /* fitted */\n",
       "  background-color: var(--sklearn-color-fitted-level-2);\n",
       "}\n",
       "\n",
       "#sk-container-id-1 div.sk-label label.sk-toggleable__label,\n",
       "#sk-container-id-1 div.sk-label label {\n",
       "  /* The background is the default theme color */\n",
       "  color: var(--sklearn-color-text-on-default-background);\n",
       "}\n",
       "\n",
       "/* On hover, darken the color of the background */\n",
       "#sk-container-id-1 div.sk-label:hover label.sk-toggleable__label {\n",
       "  color: var(--sklearn-color-text);\n",
       "  background-color: var(--sklearn-color-unfitted-level-2);\n",
       "}\n",
       "\n",
       "/* Label box, darken color on hover, fitted */\n",
       "#sk-container-id-1 div.sk-label.fitted:hover label.sk-toggleable__label.fitted {\n",
       "  color: var(--sklearn-color-text);\n",
       "  background-color: var(--sklearn-color-fitted-level-2);\n",
       "}\n",
       "\n",
       "/* Estimator label */\n",
       "\n",
       "#sk-container-id-1 div.sk-label label {\n",
       "  font-family: monospace;\n",
       "  font-weight: bold;\n",
       "  display: inline-block;\n",
       "  line-height: 1.2em;\n",
       "}\n",
       "\n",
       "#sk-container-id-1 div.sk-label-container {\n",
       "  text-align: center;\n",
       "}\n",
       "\n",
       "/* Estimator-specific */\n",
       "#sk-container-id-1 div.sk-estimator {\n",
       "  font-family: monospace;\n",
       "  border: 1px dotted var(--sklearn-color-border-box);\n",
       "  border-radius: 0.25em;\n",
       "  box-sizing: border-box;\n",
       "  margin-bottom: 0.5em;\n",
       "  /* unfitted */\n",
       "  background-color: var(--sklearn-color-unfitted-level-0);\n",
       "}\n",
       "\n",
       "#sk-container-id-1 div.sk-estimator.fitted {\n",
       "  /* fitted */\n",
       "  background-color: var(--sklearn-color-fitted-level-0);\n",
       "}\n",
       "\n",
       "/* on hover */\n",
       "#sk-container-id-1 div.sk-estimator:hover {\n",
       "  /* unfitted */\n",
       "  background-color: var(--sklearn-color-unfitted-level-2);\n",
       "}\n",
       "\n",
       "#sk-container-id-1 div.sk-estimator.fitted:hover {\n",
       "  /* fitted */\n",
       "  background-color: var(--sklearn-color-fitted-level-2);\n",
       "}\n",
       "\n",
       "/* Specification for estimator info (e.g. \"i\" and \"?\") */\n",
       "\n",
       "/* Common style for \"i\" and \"?\" */\n",
       "\n",
       ".sk-estimator-doc-link,\n",
       "a:link.sk-estimator-doc-link,\n",
       "a:visited.sk-estimator-doc-link {\n",
       "  float: right;\n",
       "  font-size: smaller;\n",
       "  line-height: 1em;\n",
       "  font-family: monospace;\n",
       "  background-color: var(--sklearn-color-background);\n",
       "  border-radius: 1em;\n",
       "  height: 1em;\n",
       "  width: 1em;\n",
       "  text-decoration: none !important;\n",
       "  margin-left: 1ex;\n",
       "  /* unfitted */\n",
       "  border: var(--sklearn-color-unfitted-level-1) 1pt solid;\n",
       "  color: var(--sklearn-color-unfitted-level-1);\n",
       "}\n",
       "\n",
       ".sk-estimator-doc-link.fitted,\n",
       "a:link.sk-estimator-doc-link.fitted,\n",
       "a:visited.sk-estimator-doc-link.fitted {\n",
       "  /* fitted */\n",
       "  border: var(--sklearn-color-fitted-level-1) 1pt solid;\n",
       "  color: var(--sklearn-color-fitted-level-1);\n",
       "}\n",
       "\n",
       "/* On hover */\n",
       "div.sk-estimator:hover .sk-estimator-doc-link:hover,\n",
       ".sk-estimator-doc-link:hover,\n",
       "div.sk-label-container:hover .sk-estimator-doc-link:hover,\n",
       ".sk-estimator-doc-link:hover {\n",
       "  /* unfitted */\n",
       "  background-color: var(--sklearn-color-unfitted-level-3);\n",
       "  color: var(--sklearn-color-background);\n",
       "  text-decoration: none;\n",
       "}\n",
       "\n",
       "div.sk-estimator.fitted:hover .sk-estimator-doc-link.fitted:hover,\n",
       ".sk-estimator-doc-link.fitted:hover,\n",
       "div.sk-label-container:hover .sk-estimator-doc-link.fitted:hover,\n",
       ".sk-estimator-doc-link.fitted:hover {\n",
       "  /* fitted */\n",
       "  background-color: var(--sklearn-color-fitted-level-3);\n",
       "  color: var(--sklearn-color-background);\n",
       "  text-decoration: none;\n",
       "}\n",
       "\n",
       "/* Span, style for the box shown on hovering the info icon */\n",
       ".sk-estimator-doc-link span {\n",
       "  display: none;\n",
       "  z-index: 9999;\n",
       "  position: relative;\n",
       "  font-weight: normal;\n",
       "  right: .2ex;\n",
       "  padding: .5ex;\n",
       "  margin: .5ex;\n",
       "  width: min-content;\n",
       "  min-width: 20ex;\n",
       "  max-width: 50ex;\n",
       "  color: var(--sklearn-color-text);\n",
       "  box-shadow: 2pt 2pt 4pt #999;\n",
       "  /* unfitted */\n",
       "  background: var(--sklearn-color-unfitted-level-0);\n",
       "  border: .5pt solid var(--sklearn-color-unfitted-level-3);\n",
       "}\n",
       "\n",
       ".sk-estimator-doc-link.fitted span {\n",
       "  /* fitted */\n",
       "  background: var(--sklearn-color-fitted-level-0);\n",
       "  border: var(--sklearn-color-fitted-level-3);\n",
       "}\n",
       "\n",
       ".sk-estimator-doc-link:hover span {\n",
       "  display: block;\n",
       "}\n",
       "\n",
       "/* \"?\"-specific style due to the `<a>` HTML tag */\n",
       "\n",
       "#sk-container-id-1 a.estimator_doc_link {\n",
       "  float: right;\n",
       "  font-size: 1rem;\n",
       "  line-height: 1em;\n",
       "  font-family: monospace;\n",
       "  background-color: var(--sklearn-color-background);\n",
       "  border-radius: 1rem;\n",
       "  height: 1rem;\n",
       "  width: 1rem;\n",
       "  text-decoration: none;\n",
       "  /* unfitted */\n",
       "  color: var(--sklearn-color-unfitted-level-1);\n",
       "  border: var(--sklearn-color-unfitted-level-1) 1pt solid;\n",
       "}\n",
       "\n",
       "#sk-container-id-1 a.estimator_doc_link.fitted {\n",
       "  /* fitted */\n",
       "  border: var(--sklearn-color-fitted-level-1) 1pt solid;\n",
       "  color: var(--sklearn-color-fitted-level-1);\n",
       "}\n",
       "\n",
       "/* On hover */\n",
       "#sk-container-id-1 a.estimator_doc_link:hover {\n",
       "  /* unfitted */\n",
       "  background-color: var(--sklearn-color-unfitted-level-3);\n",
       "  color: var(--sklearn-color-background);\n",
       "  text-decoration: none;\n",
       "}\n",
       "\n",
       "#sk-container-id-1 a.estimator_doc_link.fitted:hover {\n",
       "  /* fitted */\n",
       "  background-color: var(--sklearn-color-fitted-level-3);\n",
       "}\n",
       "</style><div id=\"sk-container-id-1\" class=\"sk-top-container\"><div class=\"sk-text-repr-fallback\"><pre>Pipeline(steps=[(&#x27;scaler&#x27;, StandardScaler()),\n",
       "                (&#x27;random_forest&#x27;,\n",
       "                 RandomForestRegressor(max_depth=10, random_state=42))])</pre><b>In a Jupyter environment, please rerun this cell to show the HTML representation or trust the notebook. <br />On GitHub, the HTML representation is unable to render, please try loading this page with nbviewer.org.</b></div><div class=\"sk-container\" hidden><div class=\"sk-item sk-dashed-wrapped\"><div class=\"sk-label-container\"><div class=\"sk-label fitted sk-toggleable\"><input class=\"sk-toggleable__control sk-hidden--visually\" id=\"sk-estimator-id-1\" type=\"checkbox\" ><label for=\"sk-estimator-id-1\" class=\"sk-toggleable__label fitted sk-toggleable__label-arrow fitted\">&nbsp;&nbsp;Pipeline<a class=\"sk-estimator-doc-link fitted\" rel=\"noreferrer\" target=\"_blank\" href=\"https://scikit-learn.org/1.4/modules/generated/sklearn.pipeline.Pipeline.html\">?<span>Documentation for Pipeline</span></a><span class=\"sk-estimator-doc-link fitted\">i<span>Fitted</span></span></label><div class=\"sk-toggleable__content fitted\"><pre>Pipeline(steps=[(&#x27;scaler&#x27;, StandardScaler()),\n",
       "                (&#x27;random_forest&#x27;,\n",
       "                 RandomForestRegressor(max_depth=10, random_state=42))])</pre></div> </div></div><div class=\"sk-serial\"><div class=\"sk-item\"><div class=\"sk-estimator fitted sk-toggleable\"><input class=\"sk-toggleable__control sk-hidden--visually\" id=\"sk-estimator-id-2\" type=\"checkbox\" ><label for=\"sk-estimator-id-2\" class=\"sk-toggleable__label fitted sk-toggleable__label-arrow fitted\">&nbsp;StandardScaler<a class=\"sk-estimator-doc-link fitted\" rel=\"noreferrer\" target=\"_blank\" href=\"https://scikit-learn.org/1.4/modules/generated/sklearn.preprocessing.StandardScaler.html\">?<span>Documentation for StandardScaler</span></a></label><div class=\"sk-toggleable__content fitted\"><pre>StandardScaler()</pre></div> </div></div><div class=\"sk-item\"><div class=\"sk-estimator fitted sk-toggleable\"><input class=\"sk-toggleable__control sk-hidden--visually\" id=\"sk-estimator-id-3\" type=\"checkbox\" ><label for=\"sk-estimator-id-3\" class=\"sk-toggleable__label fitted sk-toggleable__label-arrow fitted\">&nbsp;RandomForestRegressor<a class=\"sk-estimator-doc-link fitted\" rel=\"noreferrer\" target=\"_blank\" href=\"https://scikit-learn.org/1.4/modules/generated/sklearn.ensemble.RandomForestRegressor.html\">?<span>Documentation for RandomForestRegressor</span></a></label><div class=\"sk-toggleable__content fitted\"><pre>RandomForestRegressor(max_depth=10, random_state=42)</pre></div> </div></div></div></div></div></div>"
      ],
      "text/plain": [
       "Pipeline(steps=[('scaler', StandardScaler()),\n",
       "                ('random_forest',\n",
       "                 RandomForestRegressor(max_depth=10, random_state=42))])"
      ]
     },
     "execution_count": 54,
     "metadata": {},
     "output_type": "execute_result"
    }
   ],
   "source": [
    "pipeline.fit(X_train,y_train)"
   ]
  },
  {
   "cell_type": "code",
   "execution_count": 55,
   "id": "90435443-f4e3-4f15-b543-11bd2d77947a",
   "metadata": {},
   "outputs": [],
   "source": [
    "y_pred = pipeline.predict(X_test)"
   ]
  },
  {
   "cell_type": "code",
   "execution_count": 56,
   "id": "afc17d10-f3bf-4fd8-b758-d19713a82d92",
   "metadata": {},
   "outputs": [
    {
     "data": {
      "text/plain": [
       "0.8918629313851522"
      ]
     },
     "execution_count": 56,
     "metadata": {},
     "output_type": "execute_result"
    }
   ],
   "source": [
    "r2_score(y_test,y_pred)"
   ]
  },
  {
   "cell_type": "code",
   "execution_count": 57,
   "id": "4d5e5cc3-6353-4ed7-a89a-2b68ea4a83e2",
   "metadata": {},
   "outputs": [],
   "source": [
    "import pickle"
   ]
  },
  {
   "cell_type": "code",
   "execution_count": 58,
   "id": "e1d1e40c-7244-451b-bc39-8af1c91795ae",
   "metadata": {},
   "outputs": [],
   "source": [
    "pickle.dump(pipeline, open('randomforest.pkl','wb'))"
   ]
  },
  {
   "cell_type": "code",
   "execution_count": 59,
   "id": "a74be7c7-dabb-4b2a-bf0d-7294eb27989a",
   "metadata": {},
   "outputs": [
    {
     "data": {
      "text/html": [
       "<div>\n",
       "<style scoped>\n",
       "    .dataframe tbody tr th:only-of-type {\n",
       "        vertical-align: middle;\n",
       "    }\n",
       "\n",
       "    .dataframe tbody tr th {\n",
       "        vertical-align: top;\n",
       "    }\n",
       "\n",
       "    .dataframe thead th {\n",
       "        text-align: right;\n",
       "    }\n",
       "</style>\n",
       "<table border=\"1\" class=\"dataframe\">\n",
       "  <thead>\n",
       "    <tr style=\"text-align: right;\">\n",
       "      <th></th>\n",
       "      <th>Location</th>\n",
       "      <th>Area</th>\n",
       "      <th>Bed</th>\n",
       "      <th>Bath</th>\n",
       "      <th>Rent</th>\n",
       "      <th>Location_encoded</th>\n",
       "    </tr>\n",
       "  </thead>\n",
       "  <tbody>\n",
       "    <tr>\n",
       "      <th>0</th>\n",
       "      <td>Bashundhara R-A</td>\n",
       "      <td>0.229508</td>\n",
       "      <td>0.4</td>\n",
       "      <td>0.285714</td>\n",
       "      <td>20000</td>\n",
       "      <td>12</td>\n",
       "    </tr>\n",
       "    <tr>\n",
       "      <th>1</th>\n",
       "      <td>Tejgaon</td>\n",
       "      <td>0.114754</td>\n",
       "      <td>0.2</td>\n",
       "      <td>0.142857</td>\n",
       "      <td>20000</td>\n",
       "      <td>63</td>\n",
       "    </tr>\n",
       "    <tr>\n",
       "      <th>2</th>\n",
       "      <td>Mohammadpur</td>\n",
       "      <td>0.172131</td>\n",
       "      <td>0.4</td>\n",
       "      <td>0.285714</td>\n",
       "      <td>18000</td>\n",
       "      <td>43</td>\n",
       "    </tr>\n",
       "    <tr>\n",
       "      <th>3</th>\n",
       "      <td>Gulshan</td>\n",
       "      <td>0.327869</td>\n",
       "      <td>0.4</td>\n",
       "      <td>0.428571</td>\n",
       "      <td>75000</td>\n",
       "      <td>18</td>\n",
       "    </tr>\n",
       "    <tr>\n",
       "      <th>4</th>\n",
       "      <td>Baridhara</td>\n",
       "      <td>0.327869</td>\n",
       "      <td>0.4</td>\n",
       "      <td>0.285714</td>\n",
       "      <td>75000</td>\n",
       "      <td>9</td>\n",
       "    </tr>\n",
       "  </tbody>\n",
       "</table>\n",
       "</div>"
      ],
      "text/plain": [
       "          Location      Area  Bed      Bath   Rent  Location_encoded\n",
       "0  Bashundhara R-A  0.229508  0.4  0.285714  20000                12\n",
       "1          Tejgaon  0.114754  0.2  0.142857  20000                63\n",
       "2      Mohammadpur  0.172131  0.4  0.285714  18000                43\n",
       "3          Gulshan  0.327869  0.4  0.428571  75000                18\n",
       "4        Baridhara  0.327869  0.4  0.285714  75000                 9"
      ]
     },
     "execution_count": 59,
     "metadata": {},
     "output_type": "execute_result"
    }
   ],
   "source": [
    "df.head()"
   ]
  },
  {
   "cell_type": "code",
   "execution_count": 60,
   "id": "3a756d46-3489-4316-9bfb-8cb12d3d76d7",
   "metadata": {},
   "outputs": [
    {
     "name": "stdout",
     "output_type": "stream",
     "text": [
      "Root Mean Squared Error:  7214.432655376515\n"
     ]
    },
    {
     "data": {
      "text/plain": [
       "0.8941003005395908"
      ]
     },
     "execution_count": 60,
     "metadata": {},
     "output_type": "execute_result"
    }
   ],
   "source": [
    "# Random Forest Regressor\n",
    "rf = RandomForestRegressor(n_estimators=100, random_state=42)\n",
    "rf.fit(X_train, y_train)\n",
    "y_pred = rf.predict(X_test)\n",
    "rf_mse = mean_squared_error(y_test, y_pred)\n",
    "print(\"Root Mean Squared Error: \", np.sqrt(rf_mse))\n",
    "r2_score(y_test,y_pred)"
   ]
  },
  {
   "cell_type": "code",
   "execution_count": 61,
   "id": "a64609f3-b753-43ca-8e75-89ba63d20a39",
   "metadata": {},
   "outputs": [
    {
     "data": {
      "text/plain": [
       "0.8945002020502701"
      ]
     },
     "execution_count": 61,
     "metadata": {},
     "output_type": "execute_result"
    }
   ],
   "source": [
    "random_forest = RandomForestRegressor()\n",
    "\n",
    "pipeline = Pipeline([\n",
    "    ('scaler', StandardScaler()),\n",
    "    ('random_forest', RandomForestRegressor(n_estimators=300, max_depth=40, random_state=42))\n",
    "])\n",
    "\n",
    "pipeline.fit(X_train,y_train)\n",
    "\n",
    "y_pred = pipeline.predict(X_test)\n",
    "\n",
    "r2_score(y_test,y_pred)"
   ]
  },
  {
   "cell_type": "code",
   "execution_count": 62,
   "id": "a6df2164-4f5d-429c-9796-528ca44d3305",
   "metadata": {},
   "outputs": [
    {
     "name": "stdout",
     "output_type": "stream",
     "text": [
      "['Location_encoded']\n"
     ]
    }
   ],
   "source": [
    "location_columns = [col for col in df.columns if col.startswith('Location_')]\n",
    "\n",
    "print(location_columns)"
   ]
  },
  {
   "cell_type": "code",
   "execution_count": 63,
   "id": "be072c9b-0d8c-400d-b4b9-dacc95887fea",
   "metadata": {},
   "outputs": [
    {
     "name": "stdout",
     "output_type": "stream",
     "text": [
      "After conversion to string:\n",
      " 0    Gulshan 2, Gulshan, Dhaka\n",
      "Name: Location, dtype: object\n",
      "After splitting and keeping all but the last part:\n",
      " 0    [Gulshan 2,  Gulshan]\n",
      "Name: Location, dtype: object\n",
      "After selecting the last element:\n",
      " 0     Gulshan\n",
      "Name: Location, dtype: object\n",
      "After stripping whitespace:\n",
      " 0    Gulshan\n",
      "Name: Location, dtype: object\n",
      "Prediction: [150000.]\n"
     ]
    }
   ],
   "source": [
    "scaler = joblib.load('scaler.pkl')\n",
    "label_encoder = joblib.load('label_encoder.pkl')\n",
    "\n",
    "# Sample input data as a dictionary (keys should match the column names)\n",
    "input_data = {\n",
    "    'Area': ['3000'],     # Replace with the actual area as a string\n",
    "    'Bed': [4],           # Number of bedrooms as an integer\n",
    "    'Bath': [4],          # Number of bathrooms as an integer\n",
    "    'Location': ['Gulshan 2, Gulshan, Dhaka']  # Location as a string\n",
    "}\n",
    "\n",
    "# Convert input data to a DataFrame\n",
    "input_df = pd.DataFrame(input_data)\n",
    "\n",
    "# Clean the 'Location' column (assuming this function is defined)\n",
    "input_df = clean_location_column(input_df)\n",
    "\n",
    "# Apply label encoding to 'Location' column\n",
    "input_df['Location_encoded'] = label_encoder.transform(input_df['Location'])\n",
    "\n",
    "# List of columns to normalize\n",
    "columns_to_normalize = ['Area', 'Bed', 'Bath']\n",
    "\n",
    "# Preprocess the 'Area' column to convert from string to numeric if needed\n",
    "input_df['Area'] = input_df['Area'].astype(float)\n",
    "\n",
    "# Scale the numeric columns ('Area', 'Bed', 'Bath')\n",
    "input_scaled = scaler.transform(input_df[columns_to_normalize])\n",
    "\n",
    "# Combine the scaled numeric features and the encoded 'Location' column\n",
    "input_scaled_df = pd.DataFrame(input_scaled, columns=columns_to_normalize)\n",
    "input_scaled_df['Location_encoded'] = input_df['Location_encoded']\n",
    "\n",
    "# Make predictions using the model pipeline (assuming 'pipeline' is already defined)\n",
    "prediction = pipeline.predict(input_scaled_df)\n",
    "print(\"Prediction:\", prediction)"
   ]
  },
  {
   "cell_type": "code",
   "execution_count": 64,
   "id": "b2744881-1696-44ae-87b7-9a88d0e723df",
   "metadata": {},
   "outputs": [
    {
     "name": "stdout",
     "output_type": "stream",
     "text": [
      "Training columns: Index(['Area', 'Bed', 'Bath', 'Location_encoded'], dtype='object')\n",
      "Input columns: Index(['Area', 'Bed', 'Bath', 'Location', 'Location_encoded'], dtype='object')\n"
     ]
    }
   ],
   "source": [
    "print(\"Training columns:\", X_train.columns)\n",
    "\n",
    "# Check the columns in the input data\n",
    "print(\"Input columns:\", input_df.columns)"
   ]
  },
  {
   "cell_type": "code",
   "execution_count": null,
   "id": "adc22bd4-9ada-4d50-ba8b-be18bb1c7d7f",
   "metadata": {},
   "outputs": [],
   "source": []
  }
 ],
 "metadata": {
  "kernelspec": {
   "display_name": "Python 3 (ipykernel)",
   "language": "python",
   "name": "python3"
  },
  "language_info": {
   "codemirror_mode": {
    "name": "ipython",
    "version": 3
   },
   "file_extension": ".py",
   "mimetype": "text/x-python",
   "name": "python",
   "nbconvert_exporter": "python",
   "pygments_lexer": "ipython3",
   "version": "3.12.4"
  }
 },
 "nbformat": 4,
 "nbformat_minor": 5
}
